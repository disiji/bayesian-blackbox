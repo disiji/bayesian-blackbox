{
 "cells": [
  {
   "cell_type": "code",
   "execution_count": 1,
   "metadata": {},
   "outputs": [],
   "source": [
    "import sys\n",
    "sys.path.insert(0, '..')\n",
    "import argparse\n",
    "from typing import Dict, Any\n",
    "import matplotlib as mpl\n",
    "import matplotlib.pyplot as plt\n",
    "import matplotlib.ticker as ticker\n",
    "import numpy as np\n",
    "from data_utils import DATASIZE_DICT, FIGURE_DIR, RESULTS_DIR\n",
    "from data_utils import DATASET_NAMES, TOPK_DICT\n",
    "import seaborn as sns\n",
    "import pandas as pd\n",
    "\n",
    "RUNS = 100\n",
    "LOG_FREQ = 100\n",
    "METHOD_NAME_DICT = {#'non-active_no_prior': 'Non-active',\n",
    "                    'non-active_uniform': 'non-active_uniform',\n",
    "                    'non-active_informed': 'non-active_informed',\n",
    "                    #'ts_uniform': 'TS',\n",
    "                    'ts_informed': 'TS (informative)',\n",
    "                    #'epsilon_greedy_no_prior': 'Epsilon greedy',\n",
    "                    #'bayesian_ucb_no_prior': 'Bayesian UCB',\n",
    "                    }\n",
    "COLUMN_WIDTH = 3.25  # Inches\n",
    "TEXT_WIDTH = 6.299213  # Inches\n",
    "GOLDEN_RATIO = 1.61803398875\n",
    "RESULTS_DIR = RESULTS_DIR + 'active_learning_topk/'\n",
    "dataset_names = TOPK_DICT.keys()"
   ]
  },
  {
   "cell_type": "code",
   "execution_count": 2,
   "metadata": {},
   "outputs": [],
   "source": [
    "pseudocount = 2\n",
    "\n",
    "\n",
    "def compute(METRIC, MODE, TOPK, eval_metric):\n",
    "\n",
    "    if METRIC == 'accuracy':\n",
    "        METHOD_NAME_DICT = {'non-active_uniform': 'non-active_uniform',\n",
    "                        'non-active_informed': 'non-active_informed',\n",
    "                        'ts_uniform': 'TS',\n",
    "                        'ts_informed': 'TS (informative)',\n",
    "                        }\n",
    "    elif METRIC == 'calibration_error':\n",
    "        METHOD_NAME_DICT = {'non-active': 'Non-active',\n",
    "                            'ts': 'TS'}\n",
    "\n",
    "    counts = np.zeros((len(dataset_names), len(METHOD_NAME_DICT)))\n",
    "    for i, dataset_name in enumerate(dataset_names):\n",
    "        if TOPK:\n",
    "            topk = TOPK_DICT[dataset_name]\n",
    "        else:\n",
    "            topk = 1\n",
    "        experiment_name = '%s_%s_%s_top%d_runs%d_pseudocount%.2f/' % (dataset_name, METRIC, MODE, topk, RUNS, pseudocount)\n",
    "        for j, method_name in enumerate(METHOD_NAME_DICT):\n",
    "            metric_eval = np.load(RESULTS_DIR + experiment_name + ('%s_%s.npy' % (eval_metric, method_name)))\n",
    "            metric_eval = np.mean(metric_eval, axis=0)\n",
    "#             if dataset_name == 'imagenet':\n",
    "#                 print(metric_eval)\n",
    "#                 break\n",
    "            metric_eval = np.argmax(metric_eval[5:] > min(0.99, metric_eval.max()*0.99)) + 5\n",
    "            #metric_eval[metric_eval==0] = DATASIZE_DICT[dataset_name] / LOG_FREQ\n",
    "            counts[i][j] = int(metric_eval * LOG_FREQ + LOG_FREQ) * 1.0 / DATASIZE_DICT[dataset_name]\n",
    "    df = pd.DataFrame(np.round(counts.T*100, 1), \n",
    "                      index=METHOD_NAME_DICT.keys(), \n",
    "                      columns=dataset_names)\n",
    "    return df"
   ]
  },
  {
   "cell_type": "code",
   "execution_count": 3,
   "metadata": {},
   "outputs": [],
   "source": [
    "results = {}\n",
    "results['accuracy_min_top1'] = compute('accuracy', 'min', False, 'mrr')\n",
    "results['accuracy_min_topm'] = compute('accuracy', 'min', True, 'mrr')\n",
    "results['ece_max_top1'] = compute('calibration_error', 'max', False, 'mrr')\n",
    "results['ece_max_topm'] = compute('calibration_error', 'max', True, 'mrr')"
   ]
  },
  {
   "cell_type": "code",
   "execution_count": 12,
   "metadata": {},
   "outputs": [
    {
     "name": "stdout",
     "output_type": "stream",
     "text": [
      "\\begin{tabular}{@{}rrrccccccccccccc@{}}\n",
      "\\toprule \n",
      "& \n",
      "& \\phantom{a} &  \\multicolumn{3}{c}{$ACC, Top 1$}\n",
      "& \\phantom{a} &  \\multicolumn{3}{c}{$ACC, Top m$}\n",
      "& \\phantom{a} &  \\multicolumn{2}{c}{$ECE, Top 1$}\n",
      "& \\phantom{a} &  \\multicolumn{2}{c}{$ECE, Top m$}\\\\ \n",
      "\\cmidrule{4-6} \\cmidrule{8-10} \\cmidrule{12-13} \\cmidrule{15-16}\n",
      "\\multicolumn{2}{c}{Dataset} && R  &RI &TSI  && R &RI &TSI && R &TS && R &TS \\\\ \\midrule\n",
      "\\multicolumn{2}{c}{     CIFAR-100}  &&82.0 &82.0 &29.0  &&100.0 &100.0 &63.0  &&88.0 &43.0 &&90.0 &59.0\\\\ \n",
      "\\multicolumn{2}{c}{      ImageNet}  &&99.4 &99.4 &12.8  &&100.0 &100.0 &20.2  &&89.6 &31.0 &&90.0 &41.2\\\\ \n",
      "\\multicolumn{2}{c}{          SVHN}  &&65.7 &65.7 &66.5  &&94.1 &95.7 &94.9  &&58.8 &40.7 &&88.4 &77.6\\\\ \n",
      "\\multicolumn{2}{c}{ 20 Newsgroups}  &&45.1 &45.1 &18.6  &&98.2 &98.2 &41.2  &&69.0 &27.9 &&90.3 &50.5\\\\ \n",
      "\\multicolumn{2}{c}{       DBpedia}  &&14.4 &14.4 &11.7  &&89.6 &89.6 &52.9  &&27.9 & 8.1 &&89.1 &55.6\\\\ \n",
      "\\bottomrule\n",
      "\\end{tabular}\n"
     ]
    }
   ],
   "source": [
    "dataset_print= {\n",
    "    'cifar100': 'CIFAR-100',\n",
    "    'imagenet': 'ImageNet',\n",
    "    'svhn': 'SVHN',\n",
    "    '20newsgroup': '20 Newsgroups',\n",
    "    'dbpedia': 'DBpedia'\n",
    "}\n",
    "tasklist = ['accuracy_min_top1','accuracy_min_topm','ece_max_top1','ece_max_topm']\n",
    "\n",
    "print('\\\\begin{tabular}{@{}rrrccccccccccccc@{}}')\n",
    "print('\\\\toprule ')\n",
    "print('& ')\n",
    "print('& \\phantom{a} &  \\multicolumn{3}{c}{$ACC, Top 1$}')\n",
    "print('& \\phantom{a} &  \\multicolumn{3}{c}{$ACC, Top m$}')\n",
    "print('& \\phantom{a} &  \\multicolumn{2}{c}{$ECE, Top 1$}')\n",
    "print('& \\phantom{a} &  \\multicolumn{2}{c}{$ECE, Top m$}\\\\\\ ')\n",
    "print('\\cmidrule{4-6} \\cmidrule{8-10} \\cmidrule{12-13} \\cmidrule{15-16}')\n",
    "print('\\multicolumn{2}{c}{Dataset} && R  &RI &TSI  && R &RI &TSI && R &TS && R &TS \\\\\\ \\midrule')\n",
    "for i in dataset_print.keys():\n",
    "    print('\\multicolumn{2}{c}{%14s}  ' % dataset_print[i], end = '')\n",
    "    vals = (results['accuracy_min_top1'][i]['non-active_uniform'],\n",
    "            results['accuracy_min_top1'][i]['non-active_informed'],\n",
    "            results['accuracy_min_top1'][i]['ts_informed'],\n",
    "            results['accuracy_min_topm'][i]['non-active_uniform'],\n",
    "            results['accuracy_min_topm'][i]['non-active_informed'],\n",
    "            results['accuracy_min_topm'][i]['ts_informed'],\n",
    "            results['ece_max_top1'][i]['non-active'],\n",
    "            results['ece_max_top1'][i]['ts'],\n",
    "            results['ece_max_topm'][i]['non-active'],\n",
    "            results['ece_max_topm'][i]['ts'])\n",
    "    print('&&%4.1f &%4.1f &%4.1f  &&%4.1f &%4.1f &%4.1f  &&%4.1f &%4.1f &&%4.1f &%4.1f\\\\' % vals, end = '')\n",
    "    print('\\\\ \\n', end = '');\n",
    "print('\\\\bottomrule')\n",
    "print('\\\\end{tabular}')"
   ]
  },
  {
   "cell_type": "code",
   "execution_count": 5,
   "metadata": {},
   "outputs": [
    {
     "name": "stdout",
     "output_type": "stream",
     "text": [
      "\\begin{tabular}{@{}rrrccccccccccc@{}}\n",
      "\\toprule \n",
      "& \n",
      "& \\phantom{a} &  \\multicolumn{2}{c}{$ACC, Top 1$}\n",
      "& \\phantom{a} &  \\multicolumn{2}{c}{$ACC, Top m$}\n",
      "& \\phantom{a} &  \\multicolumn{2}{c}{$ECE, Top 1$}\n",
      "& \\phantom{a} &  \\multicolumn{2}{c}{$ECE, Top m$}\\\\ \n",
      "\\cmidrule{4-5} \\cmidrule{7-8} \\cmidrule{10-11} \\cmidrule{13-14}\n",
      "\\multicolumn{2}{c}{Dataset}  &&Random&TS  &&Random&TS &&Random&TS &&Random&TS \\\\ \\midrule\n",
      "\\multicolumn{2}{c}{   CIFAR-100}\t&&82.0 &\\textbf{27.0} &&100.0 &\\textbf{57.0} &&88.0 &\\textbf{43.0} &&90.0 &\\textbf{59.0}\\ \\\\ \n",
      "\\multicolumn{2}{c}{    ImageNet}\t&&99.4 &\\textbf{20.2} &&100.0 &\\textbf{27.2} &&89.6 &\\textbf{31.0} &&90.0 &\\textbf{41.2}\\ \\\\ \n",
      "\\multicolumn{2}{c}{        SVHN}\t&&65.7 &\\textbf{35.0} &&94.1 &\\textbf{81.4} &&58.8 &\\textbf{40.7} &&88.4 &\\textbf{77.6}\\ \\\\ \n",
      "\\multicolumn{2}{c}{20 Newsgroups}\t&&45.1 &\\textbf{14.6} &&98.2 &\\textbf{33.2} &&69.0 &\\textbf{27.9} &&90.3 &\\textbf{50.5}\\ \\\\ \n",
      "\\multicolumn{2}{c}{     DBpedia}\t&&14.4 &\\textbf{ 7.7} &&89.6 &\\textbf{50.7} &&27.9 &\\textbf{ 8.1} &&89.1 &\\textbf{55.6}\\ \\\\ \n",
      "\\bottomrule\n",
      "\\end{tabular}\n"
     ]
    }
   ],
   "source": [
    "dataset_print= {\n",
    "    'cifar100': 'CIFAR-100',\n",
    "    'imagenet': 'ImageNet',\n",
    "    'svhn': 'SVHN',\n",
    "    '20newsgroup': '20 Newsgroups',\n",
    "    'dbpedia': 'DBpedia'\n",
    "}\n",
    "tasklist = ['accuracy_min_top1','accuracy_min_topm','ece_max_top1','ece_max_topm']\n",
    "\n",
    "print('\\\\begin{tabular}{@{}rrrccccccccccc@{}}')\n",
    "print('\\\\toprule ')\n",
    "print('& ')\n",
    "print('& \\phantom{a} &  \\multicolumn{2}{c}{$ACC, Top 1$}')\n",
    "print('& \\phantom{a} &  \\multicolumn{2}{c}{$ACC, Top m$}')\n",
    "print('& \\phantom{a} &  \\multicolumn{2}{c}{$ECE, Top 1$}')\n",
    "print('& \\phantom{a} &  \\multicolumn{2}{c}{$ECE, Top m$}\\\\\\ ')\n",
    "print('\\cmidrule{4-5} \\cmidrule{7-8} \\cmidrule{10-11} \\cmidrule{13-14}')\n",
    "print('\\multicolumn{2}{c}{Dataset}  &&Random&TS  &&Random&TS &&Random&TS &&Random&TS \\\\\\ \\midrule')\n",
    "for i in dataset_print.keys():\n",
    "    print('\\multicolumn{2}{c}{%12s}\\t' % dataset_print[i], end = '')\n",
    "    vals = (results['accuracy_min_top1'][i]['non-active_uniform'],\n",
    "            results['accuracy_min_top1'][i]['ts_uniform'],\n",
    "            results['accuracy_min_topm'][i]['non-active_uniform'],\n",
    "            results['accuracy_min_topm'][i]['ts_uniform'],\n",
    "            results['ece_max_top1'][i]['non-active'],\n",
    "            results['ece_max_top1'][i]['ts'],\n",
    "            results['ece_max_topm'][i]['non-active'],\n",
    "            results['ece_max_topm'][i]['ts'])\n",
    "    print('&&%4.1f &\\\\textbf{%4.1f} &&%4.1f &\\\\textbf{%4.1f} &&%4.1f &\\\\textbf{%4.1f} &&%4.1f &\\\\textbf{%4.1f}\\\\ ' % vals, end = '')\n",
    "    print('\\\\\\\\ \\n', end = '');\n",
    "print('\\\\bottomrule')\n",
    "print('\\\\end{tabular}')"
   ]
  },
  {
   "cell_type": "code",
   "execution_count": 6,
   "metadata": {},
   "outputs": [
    {
     "data": {
      "text/plain": [
       "dict_keys(['cifar100', 'imagenet', 'svhn', '20newsgroup', 'dbpedia'])"
      ]
     },
     "execution_count": 6,
     "metadata": {},
     "output_type": "execute_result"
    }
   ],
   "source": [
    "dataset_names"
   ]
  },
  {
   "cell_type": "code",
   "execution_count": 23,
   "metadata": {},
   "outputs": [
    {
     "name": "stdout",
     "output_type": "stream",
     "text": [
      "\\begin{tabular}{@{}rrrccccccc@{}}\n",
      "\\toprule \n",
      "& \n",
      "& \\phantom{a} &  \\multicolumn{3}{c}{$ACC, Top 1$}\n",
      "& \\phantom{a} &  \\multicolumn{3}{c}{$ACC, Top m$}\\\\ \n",
      "\\cmidrule{4-6} \\cmidrule{8-10}\n",
      "\\multicolumn{2}{c}{Dataset} && R  &RI &TSI  && R &RI &TSI  \\\\ \\midrule\n",
      "\\multicolumn{2}{c}{     CIFAR-100}  &&82.0 &82.0 &29.0  &&100.0 &100.0 &63.0 \\\\ \n",
      "\\multicolumn{2}{c}{      ImageNet}  &&99.4 &99.4 &12.8  &&100.0 &100.0 &20.2 \\\\ \n",
      "\\multicolumn{2}{c}{          SVHN}  &&65.7 &65.7 &66.5  &&94.1 &95.7 &94.9 \\\\ \n",
      "\\multicolumn{2}{c}{ 20 Newsgroups}  &&45.1 &45.1 &18.6  &&98.2 &98.2 &41.2 \\\\ \n",
      "\\multicolumn{2}{c}{       DBpedia}  &&14.4 &14.4 &11.7  &&89.6 &89.6 &52.9 \\\\ \n",
      "\\bottomrule\n",
      "\\end{tabular}\n"
     ]
    }
   ],
   "source": [
    "dataset_print= {\n",
    "    'cifar100': 'CIFAR-100',\n",
    "    'imagenet': 'ImageNet',\n",
    "    'svhn': 'SVHN',\n",
    "    '20newsgroup': '20 Newsgroups',\n",
    "    'dbpedia': 'DBpedia'\n",
    "}\n",
    "tasklist = ['accuracy_min_top1','accuracy_min_topm']\n",
    "\n",
    "print('\\\\begin{tabular}{@{}rrrccccccc@{}}')\n",
    "print('\\\\toprule ')\n",
    "print('& ')\n",
    "print('& \\phantom{a} &  \\multicolumn{3}{c}{$ACC, Top 1$}')\n",
    "print('& \\phantom{a} &  \\multicolumn{3}{c}{$ACC, Top m$}\\\\\\ ')\n",
    "print('\\cmidrule{4-6} \\cmidrule{8-10}')\n",
    "print('\\multicolumn{2}{c}{Dataset} && R  &RI &TSI  && R &RI &TSI  \\\\\\ \\midrule')\n",
    "for i in dataset_print.keys():\n",
    "    print('\\multicolumn{2}{c}{%14s}  ' % dataset_print[i], end = '')\n",
    "    vals = (results['accuracy_min_top1'][i]['non-active_uniform'],\n",
    "            results['accuracy_min_top1'][i]['non-active_informed'],\n",
    "            results['accuracy_min_top1'][i]['ts_informed'],\n",
    "            results['accuracy_min_topm'][i]['non-active_uniform'],\n",
    "            results['accuracy_min_topm'][i]['non-active_informed'],\n",
    "            results['accuracy_min_topm'][i]['ts_informed'])\n",
    "    print('&&%4.1f &%4.1f &%4.1f  &&%4.1f &%4.1f &%4.1f \\\\' % vals, end = '')\n",
    "    print('\\\\ \\n', end = '');\n",
    "print('\\\\bottomrule')\n",
    "print('\\\\end{tabular}')"
   ]
  },
  {
   "cell_type": "code",
   "execution_count": 26,
   "metadata": {},
   "outputs": [
    {
     "name": "stdout",
     "output_type": "stream",
     "text": [
      "\\begin{tabular}{@{}rrrccccc@{}}\n",
      "\\toprule \n",
      "& \n",
      "& \\phantom{a} &  \\multicolumn{2}{c}{$ECE, Top 1$}\n",
      "& \\phantom{a} &  \\multicolumn{2}{c}{$ECE, Top m$}\\\\ \n",
      "\\cmidrule{4-5} \\cmidrule{7-8}\n",
      "\\multicolumn{2}{c}{Dataset} && R &TS && R &TS \\\\ \\midrule\n",
      "\\multicolumn{2}{c}{     CIFAR-100}  &&88.0 &43.0 &&90.0 &59.0\\\\ \n",
      "\\multicolumn{2}{c}{      ImageNet}  &&89.6 &31.0 &&90.0 &41.2\\\\ \n",
      "\\multicolumn{2}{c}{          SVHN}  &&58.8 &40.7 &&88.4 &77.6\\\\ \n",
      "\\multicolumn{2}{c}{ 20 Newsgroups}  &&69.0 &27.9 &&90.3 &50.5\\\\ \n",
      "\\multicolumn{2}{c}{       DBpedia}  &&27.9 & 8.1 &&89.1 &55.6\\\\ \n",
      "\\bottomrule\n",
      "\\end{tabular}\n"
     ]
    }
   ],
   "source": [
    "dataset_print= {\n",
    "    'cifar100': 'CIFAR-100',\n",
    "    'imagenet': 'ImageNet',\n",
    "    'svhn': 'SVHN',\n",
    "    '20newsgroup': '20 Newsgroups',\n",
    "    'dbpedia': 'DBpedia'\n",
    "}\n",
    "tasklist = ['ece_max_top1','ece_max_topm']\n",
    "\n",
    "print('\\\\begin{tabular}{@{}rrrccccc@{}}')\n",
    "print('\\\\toprule ')\n",
    "print('& ')\n",
    "print('& \\phantom{a} &  \\multicolumn{2}{c}{$ECE, Top 1$}')\n",
    "print('& \\phantom{a} &  \\multicolumn{2}{c}{$ECE, Top m$}\\\\\\ ')\n",
    "print('\\cmidrule{4-5} \\cmidrule{7-8}')\n",
    "print('\\multicolumn{2}{c}{Dataset} && R &TS && R &TS \\\\\\ \\midrule')\n",
    "for i in dataset_print.keys():\n",
    "    print('\\multicolumn{2}{c}{%14s}  ' % dataset_print[i], end = '')\n",
    "    vals = (results['ece_max_top1'][i]['non-active'],\n",
    "            results['ece_max_top1'][i]['ts'],\n",
    "            results['ece_max_topm'][i]['non-active'],\n",
    "            results['ece_max_topm'][i]['ts'])\n",
    "    print('&&%4.1f &%4.1f &&%4.1f &%4.1f\\\\' % vals, end = '')\n",
    "    print('\\\\ \\n', end = '');\n",
    "print('\\\\bottomrule')\n",
    "print('\\\\end{tabular}')"
   ]
  }
 ],
 "metadata": {
  "kernelspec": {
   "display_name": "Python 3",
   "language": "python",
   "name": "python3"
  },
  "language_info": {
   "codemirror_mode": {
    "name": "ipython",
    "version": 3
   },
   "file_extension": ".py",
   "mimetype": "text/x-python",
   "name": "python",
   "nbconvert_exporter": "python",
   "pygments_lexer": "ipython3",
   "version": "3.7.6"
  }
 },
 "nbformat": 4,
 "nbformat_minor": 2
}
